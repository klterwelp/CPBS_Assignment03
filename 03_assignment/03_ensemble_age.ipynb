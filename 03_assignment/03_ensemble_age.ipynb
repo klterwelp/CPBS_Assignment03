{
 "cells": [
  {
   "cell_type": "markdown",
   "metadata": {},
   "source": [
    "## 3. Ensemble-based models to predict age\n",
    "We are interested in predicting age using samples from blood and their projection into the latent spaces you generated before. Note that age is a subject attribute (look at the assignment 2 for more details on how to obtain this data).\n",
    "\n",
    "Use at least two ensemble approaches to predict age, ensuring that you are predicting a continuous variable (not a categorical one).\n",
    "Use a model evaluation strategy that allows you to play with different hyperparameters to select the best model, assess whether the models are good predictors and whether they generalize well on unseen data."
   ]
  },
  {
   "cell_type": "markdown",
   "metadata": {},
   "source": [
    "### Import data and load packages"
   ]
  }
 ],
 "metadata": {
  "language_info": {
   "name": "python"
  }
 },
 "nbformat": 4,
 "nbformat_minor": 2
}
