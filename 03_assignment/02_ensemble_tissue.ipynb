{
 "cells": [
  {
   "cell_type": "markdown",
   "metadata": {},
   "source": [
    "## 2. Ensemble-based models to predict tissue\n",
    "We are interested in predicting the tissue of origin using the latent spaces generated before.\n",
    "\n",
    "Using samples projected into the different latent spaces, use at least two ensemble approaches to predict their tissue of origin:\n",
    "One approach must use a learner/estimator that tends to overfit data.\n",
    "Another approach must use a weak learner that slightly outperforms a random estimator.\n",
    "Use a model evaluation strategy that allows you to play with different hyperparameters to select the best model, assess whether the models are good predictors across all tissues (take a look at the classification_reportLinks to an external site. function in sklearn) and whether they generalize well on unseen data."
   ]
  },
  {
   "cell_type": "markdown",
   "metadata": {},
   "source": [
    "### Load data and packages"
   ]
  },
  {
   "cell_type": "code",
   "execution_count": 2,
   "metadata": {},
   "outputs": [],
   "source": [
    "# import packages\n",
    "import warnings\n",
    "\n",
    "import matplotlib.pyplot as plt\n",
    "import numpy as np\n",
    "import pandas as pd\n",
    "import seaborn as sns\n",
    "from scipy.spatial.distance import pdist\n",
    "from sklearn import cluster\n",
    "from sklearn import metrics\n",
    "from sklearn.metrics import adjusted_rand_score as ari\n",
    "from sklearn.metrics import adjusted_mutual_info_score as ami\n",
    "from sklearn.metrics import (\n",
    "    calinski_harabasz_score,\n",
    "    davies_bouldin_score,\n",
    "    silhouette_score,\n",
    ")\n",
    "import umap \n",
    "from sklearn.decomposition import PCA\n",
    "from sklearn.preprocessing import LabelEncoder\n",
    "from sklearn.model_selection import cross_val_score\n",
    "from sklearn.model_selection import train_test_split\n",
    "\n",
    "from sklearn.ensemble import HistGradientBoostingClassifier, RandomForestClassifier\n",
    "from sklearn.model_selection import GridSearchCV, KFold\n",
    "from sklearn.metrics import balanced_accuracy_score, precision_score, recall_score, f1_score, confusion_matrix, classification_report\n",
    "\n"
   ]
  },
  {
   "cell_type": "code",
   "execution_count": 3,
   "metadata": {},
   "outputs": [],
   "source": [
    "# Set up cross-validation with a fixed random_state\n",
    "cv = KFold(n_splits=5, shuffle=True, random_state=42)"
   ]
  },
  {
   "cell_type": "code",
   "execution_count": 4,
   "metadata": {},
   "outputs": [],
   "source": [
    "# import data from 01_preprocessing jupyter notebook\n",
    "GTEx_data = pd.read_pickle(\"../GTEx_data_input.pkl\")\n",
    "GTEx_labels = pd.read_pickle(\"../GTEx_labels.pkl\")"
   ]
  },
  {
   "cell_type": "code",
   "execution_count": 5,
   "metadata": {},
   "outputs": [],
   "source": [
    "# set up PCA of GTEx data based on best parameters from 01_dimension_reduction\n",
    "# reduce GTEx data to a PCA of 40 dimensions, considered best\n",
    "pca = PCA(n_components=40)\n",
    "pca_fit = pca.fit(GTEx_data)\n",
    "pca_data = pca_fit.transform(GTEx_data)"
   ]
  },
  {
   "cell_type": "code",
   "execution_count": 6,
   "metadata": {},
   "outputs": [
    {
     "data": {
      "text/plain": [
       "(12385, 40)"
      ]
     },
     "execution_count": 6,
     "metadata": {},
     "output_type": "execute_result"
    }
   ],
   "source": [
    "pca_data.shape"
   ]
  },
  {
   "cell_type": "code",
   "execution_count": 7,
   "metadata": {},
   "outputs": [
    {
     "name": "stderr",
     "output_type": "stream",
     "text": [
      "/projects/kterwelp@xsede.org/software/anaconda/envs/cpbs7602_assignment03/lib/python3.10/site-packages/sklearn/utils/deprecation.py:151: FutureWarning: 'force_all_finite' was renamed to 'ensure_all_finite' in 1.6 and will be removed in 1.8.\n",
      "  warnings.warn(\n",
      "/projects/kterwelp@xsede.org/software/anaconda/envs/cpbs7602_assignment03/lib/python3.10/site-packages/umap/umap_.py:1952: UserWarning: n_jobs value 1 overridden to 1 by setting random_state. Use no seed for parallelism.\n",
      "  warn(\n",
      "/projects/kterwelp@xsede.org/software/anaconda/envs/cpbs7602_assignment03/lib/python3.10/site-packages/sklearn/utils/deprecation.py:151: FutureWarning: 'force_all_finite' was renamed to 'ensure_all_finite' in 1.6 and will be removed in 1.8.\n",
      "  warnings.warn(\n"
     ]
    }
   ],
   "source": [
    "# set up UMAP of GTEx data based on best parameters from 01_dimension_reduction\n",
    "# reduce data with UMAP, set seed because stochastic\n",
    "umap = umap.UMAP(random_state=42, n_components=200, min_dist=0.1, n_neighbors=50)\n",
    "umap_fit = umap.fit(GTEx_data) \n",
    "umap_data = umap_fit.transform(GTEx_data) "
   ]
  },
  {
   "cell_type": "code",
   "execution_count": 8,
   "metadata": {},
   "outputs": [],
   "source": [
    "# set up labels in numeric format\n",
    "le = LabelEncoder()\n",
    "le.fit(GTEx_labels)\n",
    "y_lan = le.transform(GTEx_labels)"
   ]
  },
  {
   "cell_type": "markdown",
   "metadata": {},
   "source": [
    "### Validation Set Generation"
   ]
  },
  {
   "cell_type": "markdown",
   "metadata": {},
   "source": [
    "Prior to parameter tuning, we will remove 20% of the data from GTEx_data to be used to evaluate the resulting tuned models. \n",
    "We'll generate the same unseen dataset for both latent spaces. Setting a seed should be enough (according to [stackexchange](https://stackoverflow.com/questions/43095076/scikit-learn-train-test-split-can-i-ensure-same-splits-on-different-datasets))"
   ]
  },
  {
   "cell_type": "code",
   "execution_count": 9,
   "metadata": {},
   "outputs": [],
   "source": [
    "# train datasets will be used in parameter tuning which will be done with cross-folds validation. \n",
    "# test datasets will be used on the final tuned model to evaluate how generalizable it is.\n",
    "\n",
    "# both pca and umap use the same seed, so will have the same split of samples \n",
    "\n",
    "PCA_train, PCA_test, UMAP_train, UMAP_test, y_train, y_test = train_test_split(\n",
    "    pca_data, umap_data, y_lan, test_size=0.20, random_state=42)\n"
   ]
  },
  {
   "cell_type": "code",
   "execution_count": 10,
   "metadata": {},
   "outputs": [
    {
     "name": "stdout",
     "output_type": "stream",
     "text": [
      "Training sample size: 9908\n",
      "Test sample size: 2477\n",
      "Number of features of PCA: 40\n",
      "Number of features of UMAP: 200\n"
     ]
    }
   ],
   "source": [
    "print(f\"Training sample size: {PCA_train.shape[0]}\")\n",
    "print(f\"Test sample size: {PCA_test.shape[0]}\")\n",
    "print(f\"Number of features of PCA: {PCA_train.shape[1]}\")\n",
    "print(f\"Number of features of UMAP: {UMAP_train.shape[1]}\")\n"
   ]
  },
  {
   "cell_type": "markdown",
   "metadata": {},
   "source": [
    "### Ensemble Modeling"
   ]
  },
  {
   "cell_type": "markdown",
   "metadata": {},
   "source": [
    "#### Weak Learners: Boosting with Gradient Boosting"
   ]
  },
  {
   "cell_type": "markdown",
   "metadata": {},
   "source": [
    "##### Step One: Parameter Optimization with RandomizedSearchCV"
   ]
  },
  {
   "cell_type": "code",
   "execution_count": 11,
   "metadata": {},
   "outputs": [
    {
     "name": "stdout",
     "output_type": "stream",
     "text": [
      "0.9902375634189516\n",
      "0.9916331235578101\n"
     ]
    }
   ],
   "source": [
    "# result of no parameter tuning: \n",
    "clf = HistGradientBoostingClassifier(random_state=30, early_stopping=True)\n",
    "cv_score = cross_val_score(clf, PCA_train, y_train, cv=cv, scoring='balanced_accuracy')\n",
    "print(cv_score.mean())\n",
    "cv2_score = cross_val_score(clf, UMAP_train, y_train, cv=cv, scoring='balanced_accuracy')\n",
    "print(cv2_score.mean())"
   ]
  },
  {
   "cell_type": "markdown",
   "metadata": {},
   "source": [
    "UMAP is performing a little better than PCA"
   ]
  },
  {
   "cell_type": "code",
   "execution_count": 12,
   "metadata": {},
   "outputs": [
    {
     "name": "stdout",
     "output_type": "stream",
     "text": [
      "Best learning rate: 0.3\n",
      "Best cross-validation score: 0.9907398612753188\n"
     ]
    }
   ],
   "source": [
    "# test learning_rate for PCA\n",
    "clf = HistGradientBoostingClassifier(random_state=30, early_stopping=True)\n",
    "param_grid = {\n",
    "    'learning_rate': np.linspace(0.05, 1, num=20) \n",
    "}\n",
    "grid_search = GridSearchCV(estimator=clf, param_grid=param_grid, cv=cv, scoring='balanced_accuracy', n_jobs=-1)\n",
    "grid_search.fit(PCA_train, y_train)\n",
    "print(f\"Best learning rate: {grid_search.best_params_['learning_rate']}\")\n",
    "print(f\"Best cross-validation score: {grid_search.best_score_}\")\n"
   ]
  },
  {
   "cell_type": "code",
   "execution_count": 14,
   "metadata": {},
   "outputs": [
    {
     "name": "stdout",
     "output_type": "stream",
     "text": [
      "Best learning rate: 0.01\n",
      "Best cross-validation score: 0.9920526228426148\n"
     ]
    }
   ],
   "source": [
    "# test learning_rate for UMAP\n",
    "clf = HistGradientBoostingClassifier(random_state=30, early_stopping=True)\n",
    "param_grid = {\n",
    "    'learning_rate': np.linspace(0.01, 1, num=20)  \n",
    "}\n",
    "grid_search = GridSearchCV(estimator=clf, param_grid=param_grid, cv=cv, scoring='balanced_accuracy', n_jobs=-1)\n",
    "grid_search.fit(UMAP_train, y_train)\n",
    "print(f\"Best learning rate: {grid_search.best_params_['learning_rate']}\")\n",
    "print(f\"Best cross-validation score: {grid_search.best_score_}\")"
   ]
  },
  {
   "cell_type": "code",
   "execution_count": 15,
   "metadata": {},
   "outputs": [
    {
     "data": {
      "image/png": "[encoded data removed]",
      "text/plain": [
       "<Figure size 640x480 with 1 Axes>"
      ]
     },
     "metadata": {},
     "output_type": "display_data"
    }
   ],
   "source": [
    "# determining max_iters for PCA \n",
    "clf = HistGradientBoostingClassifier(random_state=30, early_stopping=True, learning_rate=0.3)\n",
    "clf.fit(PCA_train, y_train)\n",
    "\n",
    "_, ax = plt.subplots()\n",
    "plt.plot(-clf.validation_score_)\n",
    "_ = ax.set(\n",
    "    xlabel=\"number of iterations\",\n",
    "    ylabel=\"log_loss\",\n",
    "    title=f\"PCA Loss of clf with early stopping (n_iter={clf.n_iter_})\",\n",
    ")\n",
    "# reach an early stop point at n_iter = 45"
   ]
  },
  {
   "cell_type": "code",
   "execution_count": null,
   "metadata": {},
   "outputs": [
    {
     "data": {
      "image/png": "[encoded data removed]",
      "text/plain": [
       "<Figure size 640x480 with 1 Axes>"
      ]
     },
     "metadata": {},
     "output_type": "display_data"
    }
   ],
   "source": [
    "# determining max_iters for UMAP \n",
    "clf = HistGradientBoostingClassifier(random_state=30, early_stopping=True, learning_rate=0.01, max_iter=1000)\n",
    "clf.fit(UMAP_train, y_train)\n",
    "\n",
    "_, ax = plt.subplots()\n",
    "plt.plot(-clf.validation_score_)\n",
    "_ = ax.set(\n",
    "    xlabel=\"number of iterations\",\n",
    "    ylabel=\"log_loss\",\n",
    "    title=f\"UMAP Loss of clf with early stopping (n_iter={clf.n_iter_})\",\n",
    ")\n",
    "# reach an early stopping point of 312 n_iter"
   ]
  },
  {
   "cell_type": "code",
   "execution_count": 17,
   "metadata": {},
   "outputs": [
    {
     "name": "stdout",
     "output_type": "stream",
     "text": [
      "PCA results:\n",
      "Best max depth: 4\n",
      "Best cross-validation score: 0.9912724181961415\n",
      "UMAP results:\n",
      "Best max depth: 10\n",
      "Best cross-validation score: 0.992084771003966\n"
     ]
    }
   ],
   "source": [
    "# tune max_depth \n",
    "# between 2 and 20\n",
    "param_grid = {\n",
    "    'max_depth': np.arange(2, 21, 2) \n",
    "}\n",
    "# test learning_rate for PCA\n",
    "## set parameters: learning_rate=0.3, n_iter = 45\n",
    "clf = HistGradientBoostingClassifier(random_state=30, early_stopping=True, learning_rate=0.3, max_iter=45)\n",
    "grid_search = GridSearchCV(estimator=clf, param_grid=param_grid, cv=cv, scoring='balanced_accuracy', n_jobs=-1)\n",
    "grid_search.fit(PCA_train, y_train)\n",
    "print(\"PCA results:\")\n",
    "print(f\"Best max depth: {grid_search.best_params_['max_depth']}\")\n",
    "print(f\"Best cross-validation score: {grid_search.best_score_}\")\n",
    "\n",
    "# test learning_rate for UMAP\n",
    "## set parameters: learning_rate=0.01, max_iter=312\n",
    "clf = HistGradientBoostingClassifier(random_state=30, early_stopping=True, learning_rate=0.01, max_iter=312)\n",
    "grid_search = GridSearchCV(estimator=clf, param_grid=param_grid, cv=cv, scoring='balanced_accuracy', n_jobs=-1)\n",
    "grid_search.fit(UMAP_train, y_train)\n",
    "print(\"UMAP results:\")\n",
    "print(f\"Best max depth: {grid_search.best_params_['max_depth']}\")\n",
    "print(f\"Best cross-validation score: {grid_search.best_score_}\")"
   ]
  },
  {
   "cell_type": "markdown",
   "metadata": {},
   "source": [
    "##### Step Two: Testing Models on Unseen Data"
   ]
  },
  {
   "cell_type": "code",
   "execution_count": 18,
   "metadata": {},
   "outputs": [
    {
     "name": "stdout",
     "output_type": "stream",
     "text": [
      "PCA model evaluation:\n",
      "Balanced Accuracy: 0.9925\n",
      "Precision: 0.9928\n",
      "Recall: 0.9927\n",
      "F1 Score: 0.9927\n",
      "UMAP model evaluation:\n",
      "Balanced Accuracy: 0.9917\n",
      "Precision: 0.9925\n",
      "Recall: 0.9923\n",
      "F1 Score: 0.9924\n"
     ]
    }
   ],
   "source": [
    "# best models after testing parameters\n",
    "pca_model = HistGradientBoostingClassifier(random_state=30, early_stopping=True, learning_rate=0.3, max_iter=45, max_depth=4)\n",
    "umap_model = HistGradientBoostingClassifier(random_state=30, early_stopping=True, learning_rate=0.01, max_iter=312, max_depth=10)\n",
    "\n",
    "# fit models \n",
    "pca_model.fit(PCA_train, y_train)\n",
    "umap_model.fit(UMAP_train, y_train)\n",
    "\n",
    "# evaluate models on unseen data\n",
    "pca_predicts = pca_model.predict(PCA_test)\n",
    "\n",
    "umap_predicts = umap_model.predict(UMAP_test)\n",
    "\n",
    "# Print additional metrics for PCA model\n",
    "print(\"PCA model evaluation:\")\n",
    "print(f\"Balanced Accuracy: {balanced_accuracy_score(y_test, pca_predicts):.4f}\")\n",
    "print(f\"Precision: {precision_score(y_test, pca_predicts, average='weighted'):.4f}\")\n",
    "print(f\"Recall: {recall_score(y_test, pca_predicts, average='weighted'):.4f}\")\n",
    "print(f\"F1 Score: {f1_score(y_test, pca_predicts, average='weighted'):.4f}\")\n",
    "\n",
    "# Print additional metrics for UMAP model\n",
    "print(\"UMAP model evaluation:\")\n",
    "print(f\"Balanced Accuracy: {balanced_accuracy_score(y_test, umap_predicts):.4f}\")\n",
    "print(f\"Precision: {precision_score(y_test, umap_predicts, average='weighted'):.4f}\")\n",
    "print(f\"Recall: {recall_score(y_test, umap_predicts, average='weighted'):.4f}\")\n",
    "print(f\"F1 Score: {f1_score(y_test, umap_predicts, average='weighted'):.4f}\")\n"
   ]
  },
  {
   "cell_type": "code",
   "execution_count": 19,
   "metadata": {},
   "outputs": [
    {
     "name": "stdout",
     "output_type": "stream",
     "text": [
      "PCA model classification report:\n",
      "                precision    recall  f1-score   support\n",
      "\n",
      "Adipose Tissue       0.97      0.99      0.98       255\n",
      "         Blood       1.00      1.00      1.00       188\n",
      "  Blood Vessel       0.98      0.98      0.98       274\n",
      "         Brain       1.00      1.00      1.00       510\n",
      "         Colon       1.00      0.98      0.99       145\n",
      "     Esophagus       1.00      0.98      0.99       295\n",
      "         Heart       0.99      0.99      0.99       178\n",
      "          Lung       0.99      1.00      1.00       118\n",
      "        Muscle       1.00      1.00      1.00       142\n",
      "          Skin       1.00      1.00      1.00       372\n",
      "\n",
      "      accuracy                           0.99      2477\n",
      "     macro avg       0.99      0.99      0.99      2477\n",
      "  weighted avg       0.99      0.99      0.99      2477\n",
      "\n",
      "UMAP model classification report:\n",
      "                precision    recall  f1-score   support\n",
      "\n",
      "Adipose Tissue       0.96      0.99      0.97       255\n",
      "         Blood       1.00      1.00      1.00       188\n",
      "  Blood Vessel       0.99      0.98      0.98       274\n",
      "         Brain       1.00      1.00      1.00       510\n",
      "         Colon       1.00      0.99      0.99       145\n",
      "     Esophagus       1.00      0.98      0.99       295\n",
      "         Heart       0.99      0.99      0.99       178\n",
      "          Lung       0.99      0.99      0.99       118\n",
      "        Muscle       1.00      1.00      1.00       142\n",
      "          Skin       1.00      1.00      1.00       372\n",
      "\n",
      "      accuracy                           0.99      2477\n",
      "     macro avg       0.99      0.99      0.99      2477\n",
      "  weighted avg       0.99      0.99      0.99      2477\n",
      "\n"
     ]
    }
   ],
   "source": [
    "# Classification Report - any tissues the models are struggling with? \n",
    "print(\"PCA model classification report:\")\n",
    "pca_report = classification_report(y_test, pca_predicts, target_names=le.classes_)\n",
    "print(pca_report)\n",
    "print(\"UMAP model classification report:\")\n",
    "umap_report = classification_report(y_test, umap_predicts, target_names=le.classes_)\n",
    "print(umap_report)"
   ]
  },
  {
   "cell_type": "markdown",
   "metadata": {},
   "source": [
    "Balanced accuracies are a little lower for both models. UMAP continues to outperform PCA model. Good generalized performance on dataset it hasn't seen. \n",
    "\n",
    "Both models struggled more with adipose tissue that the other classes. "
   ]
  },
  {
   "cell_type": "markdown",
   "metadata": {},
   "source": [
    "#### Strong Learners: Bagging with Random Forest meta-estimators"
   ]
  },
  {
   "cell_type": "markdown",
   "metadata": {},
   "source": [
    "##### Step One: Parameter Tuning"
   ]
  },
  {
   "cell_type": "code",
   "execution_count": 20,
   "metadata": {},
   "outputs": [
    {
     "name": "stdout",
     "output_type": "stream",
     "text": [
      "0.9916578407544117\n",
      "0.992569351280373\n"
     ]
    }
   ],
   "source": [
    "# result of no parameter tuning: \n",
    "clf = RandomForestClassifier(random_state=30)\n",
    "cv_score = cross_val_score(clf, PCA_train, y_train, cv=cv, scoring='balanced_accuracy')\n",
    "print(cv_score.mean())\n",
    "cv2_score = cross_val_score(clf, UMAP_train, y_train, cv=cv, scoring='balanced_accuracy')\n",
    "print(cv2_score.mean())"
   ]
  },
  {
   "cell_type": "markdown",
   "metadata": {},
   "source": [
    "Base RandomForestClassifer performs better than the GradientBoosting algorithm."
   ]
  },
  {
   "cell_type": "code",
   "execution_count": 21,
   "metadata": {},
   "outputs": [],
   "source": [
    "# adjusting n_estimators and max_features\n",
    "# Number of trees in random forest\n",
    "n_estimators = [int(x) for x in np.linspace(start = 200, stop = 2000, num = 10)]\n",
    "# Number of features to consider at every split\n",
    "max_features = ['sqrt', 'log2']\n",
    "\n",
    "# Create the param grid\n",
    "param_grid = {'n_estimators': n_estimators,\n",
    "               'max_features': max_features}"
   ]
  },
  {
   "cell_type": "code",
   "execution_count": 23,
   "metadata": {},
   "outputs": [
    {
     "name": "stdout",
     "output_type": "stream",
     "text": [
      "Best estimators for PCA: 200\n",
      "Best max features for PCA: sqrt\n",
      "Best cross-validation score for PCA: 0.9917644571460917\n",
      "Best estimators for UMAP: 600\n",
      "Best max features for UMAP: log2\n",
      "Best cross-validation score for UMAP: 0.9926630026240245\n"
     ]
    }
   ],
   "source": [
    "clf = RandomForestClassifier(random_state=30)\n",
    "grid_search = GridSearchCV(estimator=clf, param_grid=param_grid, cv=cv, scoring='balanced_accuracy', n_jobs=-1)\n",
    "grid_search.fit(PCA_train, y_train)\n",
    "print(f\"Best estimators for PCA: {grid_search.best_params_['n_estimators']}\")\n",
    "print(f\"Best max features for PCA: {grid_search.best_params_['max_features']}\")\n",
    "print(f\"Best cross-validation score for PCA: {grid_search.best_score_}\")\n",
    "\n",
    "grid_search = GridSearchCV(estimator=clf, param_grid=param_grid, cv=cv, scoring='balanced_accuracy', n_jobs=-1)\n",
    "grid_search.fit(UMAP_train, y_train)\n",
    "print(f\"Best estimators for UMAP: {grid_search.best_params_['n_estimators']}\")\n",
    "print(f\"Best max features for UMAP: {grid_search.best_params_['max_features']}\")\n",
    "print(f\"Best cross-validation score for UMAP: {grid_search.best_score_}\")"
   ]
  },
  {
   "cell_type": "code",
   "execution_count": 24,
   "metadata": {},
   "outputs": [],
   "source": [
    "# adjusting max_depth \n",
    "# Maximum number of levels in tree\n",
    "max_depth = [int(x) for x in np.linspace(10, 110, num = 11)]\n",
    "max_depth.append(None)\n",
    "# Minimum number of samples required to split a node\n",
    "\n",
    "# Create the param grid\n",
    "param_grid = {'max_depth': max_depth}"
   ]
  },
  {
   "cell_type": "code",
   "execution_count": 25,
   "metadata": {},
   "outputs": [
    {
     "name": "stdout",
     "output_type": "stream",
     "text": [
      "Best max depth for PCA: 20\n",
      "Best cross-validation score for PCA: 0.9918521764443373\n",
      "Best max depth for UMAP: 20\n",
      "Best cross-validation score for UMAP: 0.9926630026240245\n"
     ]
    }
   ],
   "source": [
    "clf = RandomForestClassifier(random_state=30, n_estimators=200, max_features=\"sqrt\")\n",
    "grid_search = GridSearchCV(estimator=clf, param_grid=param_grid, cv=cv, scoring='balanced_accuracy', n_jobs=-1)\n",
    "grid_search.fit(PCA_train, y_train)\n",
    "print(f\"Best max depth for PCA: {grid_search.best_params_['max_depth']}\")\n",
    "print(f\"Best cross-validation score for PCA: {grid_search.best_score_}\")\n",
    "\n",
    "clf = RandomForestClassifier(random_state=30, n_estimators=600, max_features=\"log2\")\n",
    "grid_search = GridSearchCV(estimator=clf, param_grid=param_grid, cv=cv, scoring='balanced_accuracy', n_jobs=-1)\n",
    "grid_search.fit(UMAP_train, y_train)\n",
    "print(f\"Best max depth for UMAP: {grid_search.best_params_['max_depth']}\")\n",
    "print(f\"Best cross-validation score for UMAP: {grid_search.best_score_}\")"
   ]
  },
  {
   "cell_type": "code",
   "execution_count": 26,
   "metadata": {},
   "outputs": [],
   "source": [
    "# adjusting min_samples_split and min_samples_leaf\n",
    "# Minimum number of samples required to split a node\n",
    "min_samples_split = [2, 5, 10, 20]\n",
    "# Minimum number of samples required at each leaf node\n",
    "min_samples_leaf = [1, 2, 4, 8, 16, 32, 64]\n",
    "param_grid = {'min_samples_split': min_samples_split,\n",
    "              'min_samples_leaf': min_samples_leaf}"
   ]
  },
  {
   "cell_type": "code",
   "execution_count": 27,
   "metadata": {},
   "outputs": [
    {
     "name": "stdout",
     "output_type": "stream",
     "text": [
      "Best min samples split for PCA: 2\n",
      "Best min samples leaf for PCA: 1\n",
      "Best cross-validation score for PCA: 0.9918521764443373\n",
      "Best min samples split for UMAP: 2\n",
      "Best min samples leaf for UMAP: 1\n",
      "Best cross-validation score for UMAP: 0.9926630026240245\n"
     ]
    }
   ],
   "source": [
    "clf = RandomForestClassifier(random_state=30, n_estimators=200, max_features=\"sqrt\", max_depth=20)\n",
    "grid_search = GridSearchCV(estimator=clf, param_grid=param_grid, cv=cv, scoring='balanced_accuracy', n_jobs=-1)\n",
    "grid_search.fit(PCA_train, y_train)\n",
    "print(f\"Best min samples split for PCA: {grid_search.best_params_['min_samples_split']}\")\n",
    "print(f\"Best min samples leaf for PCA: {grid_search.best_params_['min_samples_leaf']}\")\n",
    "print(f\"Best cross-validation score for PCA: {grid_search.best_score_}\")\n",
    "\n",
    "clf = RandomForestClassifier(random_state=30, n_estimators=600, max_features=\"log2\", max_depth=20)\n",
    "grid_search = GridSearchCV(estimator=clf, param_grid=param_grid, cv=cv, scoring='balanced_accuracy', n_jobs=-1)\n",
    "grid_search.fit(UMAP_train, y_train)\n",
    "print(f\"Best min samples split for UMAP: {grid_search.best_params_['min_samples_split']}\")\n",
    "print(f\"Best min samples leaf for UMAP: {grid_search.best_params_['min_samples_leaf']}\")\n",
    "print(f\"Best cross-validation score for UMAP: {grid_search.best_score_}\")"
   ]
  },
  {
   "cell_type": "markdown",
   "metadata": {},
   "source": [
    "### Testing on Unseen Data"
   ]
  },
  {
   "cell_type": "code",
   "execution_count": 28,
   "metadata": {},
   "outputs": [
    {
     "name": "stdout",
     "output_type": "stream",
     "text": [
      "PCA model evaluation:\n",
      "Balanced Accuracy: 0.9927\n",
      "Precision: 0.9928\n",
      "Recall: 0.9927\n",
      "F1 Score: 0.9927\n",
      "UMAP model evaluation:\n",
      "Balanced Accuracy: 0.9921\n",
      "Precision: 0.9929\n",
      "Recall: 0.9927\n",
      "F1 Score: 0.9928\n"
     ]
    }
   ],
   "source": [
    "# best models after testing parameters\n",
    "pca_model = RandomForestClassifier(random_state=30, n_estimators=200, max_features=\"sqrt\", max_depth=20, min_samples_split=2, min_samples_leaf=1)\n",
    "umap_model = RandomForestClassifier(random_state=30, n_estimators=600, max_features=\"log2\", max_depth=20, min_samples_split=2, min_samples_leaf=1)\n",
    "\n",
    "# fit models \n",
    "pca_model.fit(PCA_train, y_train)\n",
    "umap_model.fit(UMAP_train, y_train)\n",
    "\n",
    "# evaluate models on unseen data\n",
    "pca_predicts = pca_model.predict(PCA_test)\n",
    "\n",
    "umap_predicts = umap_model.predict(UMAP_test)\n",
    "\n",
    "# Print additional metrics for PCA model\n",
    "print(\"PCA model evaluation:\")\n",
    "print(f\"Balanced Accuracy: {balanced_accuracy_score(y_test, pca_predicts):.4f}\")\n",
    "print(f\"Precision: {precision_score(y_test, pca_predicts, average='weighted'):.4f}\")\n",
    "print(f\"Recall: {recall_score(y_test, pca_predicts, average='weighted'):.4f}\")\n",
    "print(f\"F1 Score: {f1_score(y_test, pca_predicts, average='weighted'):.4f}\")\n",
    "\n",
    "# Print additional metrics for UMAP model\n",
    "print(\"UMAP model evaluation:\")\n",
    "print(f\"Balanced Accuracy: {balanced_accuracy_score(y_test, umap_predicts):.4f}\")\n",
    "print(f\"Precision: {precision_score(y_test, umap_predicts, average='weighted'):.4f}\")\n",
    "print(f\"Recall: {recall_score(y_test, umap_predicts, average='weighted'):.4f}\")\n",
    "print(f\"F1 Score: {f1_score(y_test, umap_predicts, average='weighted'):.4f}\")"
   ]
  },
  {
   "cell_type": "code",
   "execution_count": 29,
   "metadata": {},
   "outputs": [
    {
     "name": "stdout",
     "output_type": "stream",
     "text": [
      "PCA model classification report:\n",
      "                precision    recall  f1-score   support\n",
      "\n",
      "Adipose Tissue       0.97      0.99      0.98       255\n",
      "         Blood       1.00      1.00      1.00       188\n",
      "  Blood Vessel       0.97      0.98      0.98       274\n",
      "         Brain       1.00      1.00      1.00       510\n",
      "         Colon       1.00      0.98      0.99       145\n",
      "     Esophagus       1.00      0.98      0.99       295\n",
      "         Heart       0.99      1.00      1.00       178\n",
      "          Lung       1.00      1.00      1.00       118\n",
      "        Muscle       1.00      1.00      1.00       142\n",
      "          Skin       1.00      1.00      1.00       372\n",
      "\n",
      "      accuracy                           0.99      2477\n",
      "     macro avg       0.99      0.99      0.99      2477\n",
      "  weighted avg       0.99      0.99      0.99      2477\n",
      "\n",
      "UMAP model classification report:\n",
      "                precision    recall  f1-score   support\n",
      "\n",
      "Adipose Tissue       0.96      1.00      0.98       255\n",
      "         Blood       1.00      1.00      1.00       188\n",
      "  Blood Vessel       0.99      0.98      0.99       274\n",
      "         Brain       1.00      1.00      1.00       510\n",
      "         Colon       1.00      0.99      0.99       145\n",
      "     Esophagus       1.00      0.98      0.99       295\n",
      "         Heart       0.99      0.99      0.99       178\n",
      "          Lung       0.99      0.99      0.99       118\n",
      "        Muscle       1.00      1.00      1.00       142\n",
      "          Skin       1.00      1.00      1.00       372\n",
      "\n",
      "      accuracy                           0.99      2477\n",
      "     macro avg       0.99      0.99      0.99      2477\n",
      "  weighted avg       0.99      0.99      0.99      2477\n",
      "\n"
     ]
    }
   ],
   "source": [
    "# Classification Report - any tissues the models are struggling with? \n",
    "print(\"PCA model classification report:\")\n",
    "pca_report = classification_report(y_test, pca_predicts, target_names=le.classes_)\n",
    "print(pca_report)\n",
    "print(\"UMAP model classification report:\")\n",
    "umap_report = classification_report(y_test, umap_predicts, target_names=le.classes_)\n",
    "print(umap_report)"
   ]
  }
 ],
 "metadata": {
  "kernelspec": {
   "display_name": "cpbs7602_assignment03",
   "language": "python",
   "name": "python3"
  },
  "language_info": {
   "codemirror_mode": {
    "name": "ipython",
    "version": 3
   },
   "file_extension": ".py",
   "mimetype": "text/x-python",
   "name": "python",
   "nbconvert_exporter": "python",
   "pygments_lexer": "ipython3",
   "version": "3.10.16"
  }
 },
 "nbformat": 4,
 "nbformat_minor": 4
}
